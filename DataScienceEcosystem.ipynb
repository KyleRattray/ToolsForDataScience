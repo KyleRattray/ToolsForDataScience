{
 "cells": [
  {
   "cell_type": "markdown",
   "id": "0c4c81ff-1e7c-4ecd-b147-0a4e09fd5ce9",
   "metadata": {},
   "source": [
    "# Data Science Tools and Ecosystem"
   ]
  },
  {
   "cell_type": "markdown",
   "id": "8177eaab-bb84-429b-8d62-0f8823f22529",
   "metadata": {},
   "source": [
    "## Author\n",
    "Kyle Rattray"
   ]
  },
  {
   "cell_type": "markdown",
   "id": "ca441657-dc87-46d1-96e1-533d8314cfc0",
   "metadata": {},
   "source": [
    "In this notebook, Data Science Tools and Ecosystems are summarised. "
   ]
  },
  {
   "cell_type": "markdown",
   "id": "96eaa5c2-facc-436c-94a1-deff22c0d0c6",
   "metadata": {},
   "source": [
    "**Objectives:**\n",
    "* List popular Data Science Languages\n",
    "* List popular Data Science Libraries\n",
    "* List popular Data Science Tools\n",
    "* Provide examples of basic arithmetic with Python"
   ]
  },
  {
   "cell_type": "markdown",
   "id": "1e58b979-8869-4573-b46a-9e504b3e49b8",
   "metadata": {},
   "source": [
    "Some of the popular languages used by Data Scientists are:\n",
    "1. Python \n",
    "2. R \n",
    "3. SQL \n",
    "4. Scala \n",
    "5. Java \n",
    "6. C++ \n",
    "7. Julia \n",
    "    "
   ]
  },
  {
   "cell_type": "markdown",
   "id": "05447b18-b3d8-42f3-86b5-37fa28ec9aff",
   "metadata": {},
   "source": [
    "Some of the common libraries used by Data Scientists include:\n",
    "1. NumPy\n",
    "2. Pandas\n",
    "3. Matplotlib\n",
    "4. Spark"
   ]
  },
  {
   "cell_type": "markdown",
   "id": "6e7a4f58-fdae-4ecc-8cad-d1d7c249defe",
   "metadata": {},
   "source": [
    "|Data Science Tools|\n",
    "|------------------|\n",
    "|Jupyter Notebooks|\n",
    "|RStudio|\n",
    "|Spyder|"
   ]
  },
  {
   "cell_type": "markdown",
   "id": "c34e0ade-6e28-4363-9b0c-91c328563255",
   "metadata": {},
   "source": [
    "### Below are a few examples of evaluating arithmetic expressions with Python."
   ]
  },
  {
   "cell_type": "code",
   "execution_count": 1,
   "id": "17662f9c-76b2-49bc-bb49-e129f32ce4e6",
   "metadata": {
    "tags": []
   },
   "outputs": [
    {
     "data": {
      "text/plain": [
       "17"
      ]
     },
     "execution_count": 1,
     "metadata": {},
     "output_type": "execute_result"
    }
   ],
   "source": [
    "#Arithmetic expression to multiply and then add integers.\n",
    "(3*4)+5"
   ]
  },
  {
   "cell_type": "code",
   "execution_count": 2,
   "id": "6548e114-c9e6-4755-9f8a-4ed300f87ced",
   "metadata": {
    "tags": []
   },
   "outputs": [
    {
     "data": {
      "text/plain": [
       "3.3333333333333335"
      ]
     },
     "execution_count": 2,
     "metadata": {},
     "output_type": "execute_result"
    }
   ],
   "source": [
    "# Conversion of 200 minutes into hours by division.\n",
    "200/60"
   ]
  },
  {
   "cell_type": "code",
   "execution_count": null,
   "id": "16d9e3f6-1db8-4831-8e08-f45abf0f40e6",
   "metadata": {},
   "outputs": [],
   "source": []
  }
 ],
 "metadata": {
  "kernelspec": {
   "display_name": "Python",
   "language": "python",
   "name": "conda-env-python-py"
  },
  "language_info": {
   "codemirror_mode": {
    "name": "ipython",
    "version": 3
   },
   "file_extension": ".py",
   "mimetype": "text/x-python",
   "name": "python",
   "nbconvert_exporter": "python",
   "pygments_lexer": "ipython3",
   "version": "3.7.12"
  }
 },
 "nbformat": 4,
 "nbformat_minor": 5
}
